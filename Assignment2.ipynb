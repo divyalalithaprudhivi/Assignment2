{
 "cells": [
  {
   "cell_type": "markdown",
   "metadata": {},
   "source": [
    "1.1 Write a Python Program to implement your own myreduce() function which works exactly like\n",
    "Python's built-in function reduce()"
   ]
  },
  {
   "cell_type": "code",
   "execution_count": 4,
   "metadata": {},
   "outputs": [
    {
     "name": "stdout",
     "output_type": "stream",
     "text": [
      "55\n"
     ]
    }
   ],
   "source": [
    "def myReduce(f, iterable):\n",
    "    it = iter(iterable)\n",
    "    value =0\n",
    "    for x in it:\n",
    "        value = f(value, x)             \n",
    "    return value\n",
    "print(myReduce(lambda x,y:x+y , [1,2,3,4,5,6,7,8,9,10] ))  "
   ]
  },
  {
   "cell_type": "markdown",
   "metadata": {},
   "source": [
    "1.2 Write a Python program to implement your own myfilter() function which works exactly like\n",
    "Python's built-in function filter()"
   ]
  },
  {
   "cell_type": "code",
   "execution_count": 3,
   "metadata": {},
   "outputs": [
    {
     "name": "stdout",
     "output_type": "stream",
     "text": [
      "[2, 4, 6, 8, 10]\n"
     ]
    }
   ],
   "source": [
    "def myFilter(f, iterable ):\n",
    "    it = iter(iterable)\n",
    "    lst2=[]\n",
    "    for x in it:\n",
    "       if(f(x)):                \n",
    "            lst2.append(x)      \n",
    "    return lst2\n",
    "print(myFilter(lambda x: x%2 == 0 , [1,2,3,4,5,6,7,8,9,10] ))"
   ]
  },
  {
   "cell_type": "markdown",
   "metadata": {},
   "source": [
    "2.\n",
    "Implement List comprehensions to produce the following lists.\n",
    "Write List comprehensions to produce the following Lists\n",
    "['A', 'C', 'A', 'D', 'G', 'I', ’L’, ‘ D’]\n",
    "['x', 'xx', 'xxx', 'xxxx', 'y', 'yy', 'yyy', 'yyyy', 'z', 'zz', 'zzz', 'zzzz']\n",
    "['x', 'y', 'z', 'xx', 'yy', 'zz', 'xx', 'yy', 'zz', 'xxxx', 'yyyy', 'zzzz']\n",
    "[[2], [3], [4], [3], [4], [5], [4], [5], [6]]\n",
    "[[2, 3, 4, 5], [3, 4, 5, 6], [4, 5, 6, 7], [5, 6, 7, 8]]\n",
    "[(1, 1), (2, 1), (3, 1), (1, 2), (2, 2), (3, 2), (1, 3), (2, 3), (3, 3)]"
   ]
  },
  {
   "cell_type": "code",
   "execution_count": 5,
   "metadata": {},
   "outputs": [
    {
     "name": "stdout",
     "output_type": "stream",
     "text": [
      "['A', 'C', 'A', 'D', 'G', 'I', 'L', 'D']\n",
      "['x', 'xx', 'xxx', 'xxxx', 'y', 'yy', 'yyy', 'yyyy', 'z', 'zz', 'zzz', 'zzzz']\n",
      "['x', 'y', 'z', 'xx', 'yy', 'zz', 'xxx', 'yyy', 'zzz', 'xxxx', 'yyyy', 'zzzz']\n",
      "[[2], [3], [4], [3], [4], [5], [4], [5], [6]]\n",
      "[[2, 3, 4, 5], [3, 4, 5, 6], [4, 5, 6, 7], [5, 6, 7, 8]]\n",
      "[(1, 1), (2, 1), (3, 1), (1, 2), (2, 2), (3, 2), (1, 3), (2, 3), (3, 3)]\n"
     ]
    }
   ],
   "source": [
    "in_string=\"ACADGILD\"\n",
    "lst=list((x for x in in_string))\n",
    "print(lst)\n",
    "in_list = ['x','y','z']\n",
    "result = [i *n  for i in in_list for n in range(1,5)]\n",
    "print(result)\n",
    "result1 = [ i * n for n in range(1,5) for i in in_list  ]\n",
    "print(result1)\n",
    "in_list = [2,3,4]\n",
    "result = [ [i+n] for i in in_list for n in range(0,3)]\n",
    "print(result)\n",
    "in_list = [2,3,4,5]\n",
    "result = [ [i + n for i in in_list] for n in range(0,4)  ]\n",
    "print(result)\n",
    "in_list=[1,2,3]\n",
    "result = [ (b,a) for a in in_list for b in in_list]\n",
    "print(result)"
   ]
  },
  {
   "cell_type": "code",
   "execution_count": null,
   "metadata": {},
   "outputs": [],
   "source": [
    "3.Implement a function longestWord() that takes a list of words and returns the longest one."
   ]
  },
  {
   "cell_type": "code",
   "execution_count": 6,
   "metadata": {},
   "outputs": [
    {
     "data": {
      "text/plain": [
       "'Blackcurrant'"
      ]
     },
     "execution_count": 6,
     "metadata": {},
     "output_type": "execute_result"
    }
   ],
   "source": [
    "def longestWord(lst):\n",
    "    long_word=''\n",
    "    for i in range(0,len(lst)):\n",
    "        if(len(long_word) < len(lst[i])):\n",
    "            long_word=lst[i]\n",
    "    return(long_word)\n",
    "    \n",
    "in_list=['banana','Avocado','Blackberry','Blackcurrant','apple']\n",
    "longestWord(in_list)\n"
   ]
  },
  {
   "cell_type": "markdown",
   "metadata": {},
   "source": [
    "# Task2"
   ]
  },
  {
   "cell_type": "markdown",
   "metadata": {},
   "source": [
    "1.1Write a Python Program(with class concepts) to find the area of the triangle using the below formula.\n",
    "\n",
    "area = (s*(s-a)*(s-b)*(s-c)) *** 0.5\n",
    "\n",
    "Function to take the length of the sides of triangle from user should be defined in the parent\n",
    "class and function to calculate the area should be defined in subclass."
   ]
  },
  {
   "cell_type": "code",
   "execution_count": 13,
   "metadata": {},
   "outputs": [
    {
     "name": "stdout",
     "output_type": "stream",
     "text": [
      "2.9047375096555625\n"
     ]
    }
   ],
   "source": [
    "class Triangle(object):\n",
    "    a,b,c=2,3,4     \n",
    "class Area(Triangle):    \n",
    "    def get_area(self):        \n",
    "        s = (self.a + self.b + self.c) / 2\n",
    "        return (s*(s-self.a)*(s-self.b)*(s-self.c)) ** 0.5    \n",
    "    \n",
    "Tri = Area()\n",
    "print(Tri.get_area())"
   ]
  },
  {
   "cell_type": "markdown",
   "metadata": {},
   "source": [
    "1.2Write a function filter_long_words() that takes a list of words and an integer n and returns the list\n",
    "of words that are longer than n"
   ]
  },
  {
   "cell_type": "code",
   "execution_count": 16,
   "metadata": {},
   "outputs": [
    {
     "name": "stdout",
     "output_type": "stream",
     "text": [
      "['ball', 'lion', 'apple', 'banana']\n"
     ]
    }
   ],
   "source": [
    "def filter_long_word(lst,n):\n",
    "    words=[]\n",
    "    for i in range(0,len(lst)):\n",
    "        if(n < len(lst[i])):\n",
    "            words.append(lst[i])\n",
    "    return(words)\n",
    "t=['BAT','ball','lion','apple','banana']\n",
    "print(filter_long_word(in_list,3))"
   ]
  },
  {
   "cell_type": "markdown",
   "metadata": {},
   "source": [
    "2.1 Write a Python program using function concept that maps  list of words into a list of integers\n",
    "representing the lengths of the corresponding words\n",
    "\n",
    "Hint: If a list [ ab,cde,erty] is passed on to the python function output should come as [2,3,4] Here 2,3 and 4 are the lengths of the words in the list"
   ]
  },
  {
   "cell_type": "code",
   "execution_count": 17,
   "metadata": {},
   "outputs": [
    {
     "name": "stdout",
     "output_type": "stream",
     "text": [
      "[3, 4, 4, 5, 6]\n"
     ]
    }
   ],
   "source": [
    "def mapWordstoLength(lst):\n",
    "    lengths=[]\n",
    "    for i in range(0,len(lst)):\n",
    "        lengths.append(len(lst[i]))\n",
    "    return lengths\n",
    "\n",
    "t=['BAT','ball','lion','apple','banana']\n",
    "print(mapWordstoLength(in_list))"
   ]
  },
  {
   "cell_type": "markdown",
   "metadata": {},
   "source": [
    "2.2Write a Python function which takes a character (i.e. a string of length 1) and returns True if it is\n",
    "a vowel, False otherwise."
   ]
  },
  {
   "cell_type": "code",
   "execution_count": 18,
   "metadata": {},
   "outputs": [
    {
     "data": {
      "text/plain": [
       "True"
      ]
     },
     "execution_count": 18,
     "metadata": {},
     "output_type": "execute_result"
    }
   ],
   "source": [
    "def checkVowel(s):\n",
    "    vowel=['a','e','i','o','u']\n",
    "    if(s in vowel):\n",
    "        return True\n",
    "    else:\n",
    "        return False    \n",
    "checkVowel('a')\n"
   ]
  },
  {
   "cell_type": "code",
   "execution_count": null,
   "metadata": {
    "collapsed": true
   },
   "outputs": [],
   "source": []
  }
 ],
 "metadata": {
  "kernelspec": {
   "display_name": "Python 3",
   "language": "python",
   "name": "python3"
  },
  "language_info": {
   "codemirror_mode": {
    "name": "ipython",
    "version": 3
   },
   "file_extension": ".py",
   "mimetype": "text/x-python",
   "name": "python",
   "nbconvert_exporter": "python",
   "pygments_lexer": "ipython3",
   "version": "3.6.5"
  }
 },
 "nbformat": 4,
 "nbformat_minor": 2
}
